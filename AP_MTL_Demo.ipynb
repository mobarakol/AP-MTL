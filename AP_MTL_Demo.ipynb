{
  "nbformat": 4,
  "nbformat_minor": 0,
  "metadata": {
    "colab": {
      "name": "AP-MTL_Demo.ipynb",
      "provenance": [],
      "collapsed_sections": [],
      "authorship_tag": "ABX9TyOUibUCjX5RWd8OctUxUpiI",
      "include_colab_link": true
    },
    "kernelspec": {
      "name": "python3",
      "display_name": "Python 3"
    },
    "language_info": {
      "name": "python"
    },
    "accelerator": "GPU"
  },
  "cells": [
    {
      "cell_type": "markdown",
      "metadata": {
        "id": "view-in-github",
        "colab_type": "text"
      },
      "source": [
        "<a href=\"https://colab.research.google.com/github/mobarakol/AP-MTL/blob/main/AP_MTL_Demo.ipynb\" target=\"_parent\"><img src=\"https://colab.research.google.com/assets/colab-badge.svg\" alt=\"Open In Colab\"/></a>"
      ]
    },
    {
      "cell_type": "markdown",
      "metadata": {
        "id": "vKE7M0X3OkH0"
      },
      "source": [
        "# AP-MTL: Attention Pruned Multi-task Learning Model for Real-time Instrument Detection and Segmentation in Robot-assisted Surgery\n",
        "\n",
        "The demo is reproducing partial result of the paper  excluding<br> \n",
        "- Detection evaluation and post-processing using detection prediction.<br>\n",
        "- Global Attention Dynamic Pruning (GADP) pruning algorithm\n"
      ]
    },
    {
      "cell_type": "markdown",
      "metadata": {
        "id": "yw1jjnGeP4BW"
      },
      "source": [
        "Clone the git"
      ]
    },
    {
      "cell_type": "code",
      "metadata": {
        "colab": {
          "base_uri": "https://localhost:8080/"
        },
        "id": "PfY12gZAP3LY",
        "outputId": "92a63e82-cc61-4580-83bd-4d67742f3244"
      },
      "source": [
        "!git clone https://github.com/mobarakol/AP-MTL.git \n",
        "%cd AP-MTL"
      ],
      "execution_count": 1,
      "outputs": [
        {
          "output_type": "stream",
          "name": "stdout",
          "text": [
            "Cloning into 'AP-MTL'...\n",
            "remote: Enumerating objects: 43, done.\u001b[K\n",
            "remote: Counting objects: 100% (43/43), done.\u001b[K\n",
            "remote: Compressing objects: 100% (35/35), done.\u001b[K\n",
            "remote: Total 43 (delta 5), reused 40 (delta 5), pack-reused 0\u001b[K\n",
            "Unpacking objects: 100% (43/43), done.\n",
            "/content/AP-MTL\n"
          ]
        }
      ]
    },
    {
      "cell_type": "markdown",
      "metadata": {
        "id": "xMG-dB0_PjWR"
      },
      "source": [
        "Downloading trained model and dataset"
      ]
    },
    {
      "cell_type": "code",
      "metadata": {
        "id": "qggyIoxaOgT-"
      },
      "source": [
        "!pip install -U -q PyDrive\n",
        "from pydrive.auth import GoogleAuth\n",
        "from pydrive.drive import GoogleDrive\n",
        "from google.colab import auth\n",
        "from oauth2client.client import GoogleCredentials\n",
        "\n",
        "# Authenticate and create the PyDrive client.\n",
        "auth.authenticate_user()\n",
        "gauth = GoogleAuth()\n",
        "gauth.credentials = GoogleCredentials.get_application_default()\n",
        "drive = GoogleDrive(gauth)"
      ],
      "execution_count": 2,
      "outputs": []
    },
    {
      "cell_type": "code",
      "metadata": {
        "id": "GzLp3KyyO7KK"
      },
      "source": [
        "ids = ['1KHYdqSf7lMJgig_vJ5DRFkUhk4V3X4q4', '1LHMzbQpkwnqcQ1gqAQxJjWA6pMUPV4e1']\n",
        "zip_files = ['Instrument_17.zip','ap_mtl.pth.tar']\n",
        "for id, zip_file in zip(ids, zip_files):\n",
        "    downloaded = drive.CreateFile({'id':id}) \n",
        "    downloaded.GetContentFile(zip_file)\n",
        "    if zip_file[-3:] == 'zip':\n",
        "        !unzip -q $zip_file"
      ],
      "execution_count": 3,
      "outputs": []
    },
    {
      "cell_type": "markdown",
      "metadata": {
        "id": "PvDEgypLQeqa"
      },
      "source": [
        "Validation without post-processing:"
      ]
    },
    {
      "cell_type": "code",
      "metadata": {
        "colab": {
          "base_uri": "https://localhost:8080/"
        },
        "id": "7WUS_OrpPhLZ",
        "outputId": "f94ca10f-00ab-4e6c-eebd-3ded19fbf404"
      },
      "source": [
        "import argparse\n",
        "import torch\n",
        "from torch.utils.data import DataLoader\n",
        "import warnings\n",
        "warnings.filterwarnings('ignore')\n",
        "import numpy as np\n",
        "\n",
        "from dataset import SurgicalDataset, detection_collate\n",
        "from ap_mtl import AP_MTL\n",
        "from utils import  calculate_dice, calculate_confusion_matrix_from_arrays\n",
        "\n",
        "def validate(valid_loader, model, args):\n",
        "    confusion_matrix = np.zeros(\n",
        "            (args.num_classes, args.num_classes), dtype=np.uint32)\n",
        "    model.eval()\n",
        "    with torch.no_grad():\n",
        "        for idx, data in enumerate(valid_loader):\n",
        "            inputs, targets, labels_seg, _ = data\n",
        "            inputs, labels_seg = inputs.cuda(), np.array(labels_seg)\n",
        "            pred_seg, pred_bbox = model(inputs)\n",
        "            pred_seg = pred_seg.data.max(1)[1].squeeze_(1).cpu().numpy()\n",
        "            confusion_matrix += calculate_confusion_matrix_from_arrays(\n",
        "                pred_seg, labels_seg, args.num_classes)    \n",
        "\n",
        "    confusion_matrix = confusion_matrix[1:, 1:]  # exclude background\n",
        "    dices = {'dice_{}'.format(cls + 1): dice\n",
        "                for cls, dice in enumerate(calculate_dice(confusion_matrix))}\n",
        "    dices_per_class = np.array(list(dices.values()))          \n",
        "\n",
        "    return dices_per_class\n",
        "\n",
        "if __name__ == '__main__':\n",
        "    ssd_conf = {\n",
        "        'num_classes': 8,\n",
        "        'lr_steps': (80000, 100000, 120000),\n",
        "        'max_iter': 120000,\n",
        "        'feature_maps': [128, 64, 32, 16, 14, 12],\n",
        "        'min_dim': 1024,\n",
        "        'steps': [8, 16, 32, 64, 74, 84], #1024/128=8\n",
        "        'min_sizes': [100, 198, 356, 518, 640, 810],\n",
        "        'max_sizes': [198, 356, 518, 640, 810, 1024],\n",
        "        'aspect_ratios': [[2], [2, 3], [2, 3], [2, 3], [2], [2]],\n",
        "        'variance': [0.1, 0.2],\n",
        "        'clip': True,\n",
        "        'name': 'ssd_conf',\n",
        "    }\n",
        "    parser = argparse.ArgumentParser(description='AP-MTL')\n",
        "    parser.add_argument('--num_classes', default=8, type=int, help=\"num of classes\")\n",
        "    parser.add_argument('--data_root', default='Instrument_17', help=\"data root dir\")\n",
        "    parser.add_argument('--batch_size', default=1, type=int, help=\"num of classes\")\n",
        "    parser.add_argument('--img_size', default=1024, type=int, help=\"num of classes\")\n",
        "    args = parser.parse_args(args=[])\n",
        "    dataset_test = SurgicalDataset(data_root=args.data_root, seq_set=[4,7], is_train=False)\n",
        "    test_loader = DataLoader(dataset_test, args.batch_size, num_workers=2,\n",
        "                                    shuffle=False, collate_fn=detection_collate, pin_memory=True, drop_last=True)\n",
        "    model = AP_MTL(num_classes=args.num_classes, size=args.img_size, ssd_conf=ssd_conf)\n",
        "    ckpt_dir = 'ap_mtl.pth.tar'\n",
        "    model.load_state_dict(torch.load(ckpt_dir, map_location=torch.device('cpu')))\n",
        "    model = model.cuda()\n",
        "    dices_per_class = validate(test_loader, model, args)\n",
        "    print('Mean Avg Dice:%.4f [Bipolar Forceps:%.4f, Prograsp Forceps:%.4f, Large Needle Driver:%.4f, Vessel Sealer:%.4f]'\n",
        "        %(dices_per_class[:4].mean(),dices_per_class[0], dices_per_class[1],dices_per_class[2],dices_per_class[3]))"
      ],
      "execution_count": 4,
      "outputs": [
        {
          "output_type": "stream",
          "name": "stdout",
          "text": [
            "Mean Avg Dice:0.3560 [Bipolar Forceps:0.5658, Prograsp Forceps:0.2088, Large Needle Driver:0.0005, Vessel Sealer:0.6490]\n"
          ]
        }
      ]
    }
  ]
}